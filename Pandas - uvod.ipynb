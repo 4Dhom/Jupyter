{
 "cells": [
  {
   "cell_type": "code",
   "execution_count": 1,
   "id": "9d4a1935",
   "metadata": {},
   "outputs": [],
   "source": [
    "import pandas as pd"
   ]
  },
  {
   "cell_type": "code",
   "execution_count": 2,
   "id": "3f2f473b",
   "metadata": {},
   "outputs": [],
   "source": [
    "tabulka_pokemonu = pd.read_csv(\"/home/hansc/Jupyter/Cviceni/pokemon.csv\")"
   ]
  },
  {
   "cell_type": "code",
   "execution_count": 3,
   "id": "55a37193",
   "metadata": {},
   "outputs": [
    {
     "data": {
      "text/html": [
       "<div>\n",
       "<style scoped>\n",
       "    .dataframe tbody tr th:only-of-type {\n",
       "        vertical-align: middle;\n",
       "    }\n",
       "\n",
       "    .dataframe tbody tr th {\n",
       "        vertical-align: top;\n",
       "    }\n",
       "\n",
       "    .dataframe thead th {\n",
       "        text-align: right;\n",
       "    }\n",
       "</style>\n",
       "<table border=\"1\" class=\"dataframe\">\n",
       "  <thead>\n",
       "    <tr style=\"text-align: right;\">\n",
       "      <th></th>\n",
       "      <th>id</th>\n",
       "      <th>name</th>\n",
       "      <th>height</th>\n",
       "      <th>weight</th>\n",
       "      <th>color</th>\n",
       "      <th>shape</th>\n",
       "      <th>is baby</th>\n",
       "      <th>type 1</th>\n",
       "      <th>type 2</th>\n",
       "      <th>hp</th>\n",
       "      <th>attack</th>\n",
       "      <th>defense</th>\n",
       "      <th>speed</th>\n",
       "    </tr>\n",
       "  </thead>\n",
       "  <tbody>\n",
       "    <tr>\n",
       "      <th>0</th>\n",
       "      <td>1</td>\n",
       "      <td>bulbasaur</td>\n",
       "      <td>0.7</td>\n",
       "      <td>6.9</td>\n",
       "      <td>green</td>\n",
       "      <td>quadruped</td>\n",
       "      <td>False</td>\n",
       "      <td>Grass</td>\n",
       "      <td>Poison</td>\n",
       "      <td>45</td>\n",
       "      <td>49</td>\n",
       "      <td>49</td>\n",
       "      <td>45</td>\n",
       "    </tr>\n",
       "    <tr>\n",
       "      <th>1</th>\n",
       "      <td>2</td>\n",
       "      <td>ivysaur</td>\n",
       "      <td>1.0</td>\n",
       "      <td>13.0</td>\n",
       "      <td>green</td>\n",
       "      <td>quadruped</td>\n",
       "      <td>False</td>\n",
       "      <td>Grass</td>\n",
       "      <td>Poison</td>\n",
       "      <td>60</td>\n",
       "      <td>62</td>\n",
       "      <td>63</td>\n",
       "      <td>60</td>\n",
       "    </tr>\n",
       "    <tr>\n",
       "      <th>2</th>\n",
       "      <td>3</td>\n",
       "      <td>venusaur</td>\n",
       "      <td>2.0</td>\n",
       "      <td>100.0</td>\n",
       "      <td>green</td>\n",
       "      <td>quadruped</td>\n",
       "      <td>False</td>\n",
       "      <td>Grass</td>\n",
       "      <td>Poison</td>\n",
       "      <td>80</td>\n",
       "      <td>82</td>\n",
       "      <td>83</td>\n",
       "      <td>80</td>\n",
       "    </tr>\n",
       "    <tr>\n",
       "      <th>3</th>\n",
       "      <td>4</td>\n",
       "      <td>charmander</td>\n",
       "      <td>0.6</td>\n",
       "      <td>8.5</td>\n",
       "      <td>red</td>\n",
       "      <td>upright</td>\n",
       "      <td>False</td>\n",
       "      <td>Fire</td>\n",
       "      <td>NaN</td>\n",
       "      <td>39</td>\n",
       "      <td>52</td>\n",
       "      <td>43</td>\n",
       "      <td>65</td>\n",
       "    </tr>\n",
       "    <tr>\n",
       "      <th>4</th>\n",
       "      <td>5</td>\n",
       "      <td>charmeleon</td>\n",
       "      <td>1.1</td>\n",
       "      <td>19.0</td>\n",
       "      <td>red</td>\n",
       "      <td>upright</td>\n",
       "      <td>False</td>\n",
       "      <td>Fire</td>\n",
       "      <td>NaN</td>\n",
       "      <td>58</td>\n",
       "      <td>64</td>\n",
       "      <td>58</td>\n",
       "      <td>80</td>\n",
       "    </tr>\n",
       "    <tr>\n",
       "      <th>...</th>\n",
       "      <td>...</td>\n",
       "      <td>...</td>\n",
       "      <td>...</td>\n",
       "      <td>...</td>\n",
       "      <td>...</td>\n",
       "      <td>...</td>\n",
       "      <td>...</td>\n",
       "      <td>...</td>\n",
       "      <td>...</td>\n",
       "      <td>...</td>\n",
       "      <td>...</td>\n",
       "      <td>...</td>\n",
       "      <td>...</td>\n",
       "    </tr>\n",
       "    <tr>\n",
       "      <th>802</th>\n",
       "      <td>803</td>\n",
       "      <td>poipole</td>\n",
       "      <td>0.6</td>\n",
       "      <td>1.8</td>\n",
       "      <td>purple</td>\n",
       "      <td>upright</td>\n",
       "      <td>False</td>\n",
       "      <td>Poison</td>\n",
       "      <td>NaN</td>\n",
       "      <td>67</td>\n",
       "      <td>73</td>\n",
       "      <td>67</td>\n",
       "      <td>73</td>\n",
       "    </tr>\n",
       "    <tr>\n",
       "      <th>803</th>\n",
       "      <td>804</td>\n",
       "      <td>naganadel</td>\n",
       "      <td>3.6</td>\n",
       "      <td>150.0</td>\n",
       "      <td>purple</td>\n",
       "      <td>wings</td>\n",
       "      <td>False</td>\n",
       "      <td>Poison</td>\n",
       "      <td>Dragon</td>\n",
       "      <td>73</td>\n",
       "      <td>73</td>\n",
       "      <td>73</td>\n",
       "      <td>121</td>\n",
       "    </tr>\n",
       "    <tr>\n",
       "      <th>804</th>\n",
       "      <td>805</td>\n",
       "      <td>stakataka</td>\n",
       "      <td>5.5</td>\n",
       "      <td>820.0</td>\n",
       "      <td>gray</td>\n",
       "      <td>quadruped</td>\n",
       "      <td>False</td>\n",
       "      <td>Rock</td>\n",
       "      <td>Steel</td>\n",
       "      <td>61</td>\n",
       "      <td>131</td>\n",
       "      <td>211</td>\n",
       "      <td>13</td>\n",
       "    </tr>\n",
       "    <tr>\n",
       "      <th>805</th>\n",
       "      <td>806</td>\n",
       "      <td>blacephalon</td>\n",
       "      <td>1.8</td>\n",
       "      <td>13.0</td>\n",
       "      <td>white</td>\n",
       "      <td>humanoid</td>\n",
       "      <td>False</td>\n",
       "      <td>Fire</td>\n",
       "      <td>Ghost</td>\n",
       "      <td>53</td>\n",
       "      <td>127</td>\n",
       "      <td>53</td>\n",
       "      <td>107</td>\n",
       "    </tr>\n",
       "    <tr>\n",
       "      <th>806</th>\n",
       "      <td>807</td>\n",
       "      <td>zeraora</td>\n",
       "      <td>1.5</td>\n",
       "      <td>44.5</td>\n",
       "      <td>yellow</td>\n",
       "      <td>humanoid</td>\n",
       "      <td>False</td>\n",
       "      <td>Electric</td>\n",
       "      <td>NaN</td>\n",
       "      <td>88</td>\n",
       "      <td>112</td>\n",
       "      <td>75</td>\n",
       "      <td>143</td>\n",
       "    </tr>\n",
       "  </tbody>\n",
       "</table>\n",
       "<p>807 rows × 13 columns</p>\n",
       "</div>"
      ],
      "text/plain": [
       "      id         name  height  weight   color      shape  is baby    type 1  \\\n",
       "0      1    bulbasaur     0.7     6.9   green  quadruped    False     Grass   \n",
       "1      2      ivysaur     1.0    13.0   green  quadruped    False     Grass   \n",
       "2      3     venusaur     2.0   100.0   green  quadruped    False     Grass   \n",
       "3      4   charmander     0.6     8.5     red    upright    False      Fire   \n",
       "4      5   charmeleon     1.1    19.0     red    upright    False      Fire   \n",
       "..   ...          ...     ...     ...     ...        ...      ...       ...   \n",
       "802  803      poipole     0.6     1.8  purple    upright    False    Poison   \n",
       "803  804    naganadel     3.6   150.0  purple      wings    False    Poison   \n",
       "804  805    stakataka     5.5   820.0    gray  quadruped    False      Rock   \n",
       "805  806  blacephalon     1.8    13.0   white   humanoid    False      Fire   \n",
       "806  807      zeraora     1.5    44.5  yellow   humanoid    False  Electric   \n",
       "\n",
       "     type 2  hp  attack  defense  speed  \n",
       "0    Poison  45      49       49     45  \n",
       "1    Poison  60      62       63     60  \n",
       "2    Poison  80      82       83     80  \n",
       "3       NaN  39      52       43     65  \n",
       "4       NaN  58      64       58     80  \n",
       "..      ...  ..     ...      ...    ...  \n",
       "802     NaN  67      73       67     73  \n",
       "803  Dragon  73      73       73    121  \n",
       "804   Steel  61     131      211     13  \n",
       "805   Ghost  53     127       53    107  \n",
       "806     NaN  88     112       75    143  \n",
       "\n",
       "[807 rows x 13 columns]"
      ]
     },
     "execution_count": 3,
     "metadata": {},
     "output_type": "execute_result"
    }
   ],
   "source": [
    "tabulka_pokemonu"
   ]
  },
  {
   "cell_type": "code",
   "execution_count": 4,
   "id": "fd4ed20f",
   "metadata": {},
   "outputs": [
    {
     "data": {
      "text/plain": [
       "0      0.7\n",
       "1      1.0\n",
       "2      2.0\n",
       "3      0.6\n",
       "4      1.1\n",
       "      ... \n",
       "802    0.6\n",
       "803    3.6\n",
       "804    5.5\n",
       "805    1.8\n",
       "806    1.5\n",
       "Name: height, Length: 807, dtype: float64"
      ]
     },
     "execution_count": 4,
     "metadata": {},
     "output_type": "execute_result"
    }
   ],
   "source": [
    "vysky = tabulka_pokemonu[\"height\"]\n",
    "vysky"
   ]
  },
  {
   "cell_type": "code",
   "execution_count": 5,
   "id": "efc71c92",
   "metadata": {},
   "outputs": [
    {
     "data": {
      "text/plain": [
       "pandas.core.series.Series"
      ]
     },
     "execution_count": 5,
     "metadata": {},
     "output_type": "execute_result"
    }
   ],
   "source": [
    "type(vysky)"
   ]
  },
  {
   "cell_type": "code",
   "execution_count": null,
   "id": "17bacd0c",
   "metadata": {},
   "outputs": [],
   "source": [
    "vysky[0]     # První výška? "
   ]
  },
  {
   "cell_type": "code",
   "execution_count": 6,
   "id": "2193f62b",
   "metadata": {},
   "outputs": [
    {
     "data": {
      "text/plain": [
       "802    0.6\n",
       "803    3.6\n",
       "804    5.5\n",
       "805    1.8\n",
       "806    1.5\n",
       "Name: height, dtype: float64"
      ]
     },
     "execution_count": 6,
     "metadata": {},
     "output_type": "execute_result"
    }
   ],
   "source": [
    "vysky[-5:]   # Posledních pět výšek? "
   ]
  },
  {
   "cell_type": "code",
   "execution_count": 7,
   "id": "1eebf0e7",
   "metadata": {},
   "outputs": [
    {
     "data": {
      "text/plain": [
       "numpy.ndarray"
      ]
     },
     "execution_count": 7,
     "metadata": {},
     "output_type": "execute_result"
    }
   ],
   "source": [
    "type(vysky.values)"
   ]
  },
  {
   "cell_type": "code",
   "execution_count": 8,
   "id": "72713363",
   "metadata": {},
   "outputs": [
    {
     "data": {
      "text/plain": [
       "dtype('float64')"
      ]
     },
     "execution_count": 8,
     "metadata": {},
     "output_type": "execute_result"
    }
   ],
   "source": [
    "vysky.dtype"
   ]
  },
  {
   "cell_type": "code",
   "execution_count": 9,
   "id": "99f77287",
   "metadata": {},
   "outputs": [
    {
     "data": {
      "text/plain": [
       "0    1\n",
       "1    2\n",
       "2    3\n",
       "dtype: int64"
      ]
     },
     "execution_count": 9,
     "metadata": {},
     "output_type": "execute_result"
    }
   ],
   "source": [
    "cisla = pd.Series([1, 2, 3])\n",
    "cisla"
   ]
  },
  {
   "cell_type": "code",
   "execution_count": 16,
   "id": "4dfd1eb5",
   "metadata": {},
   "outputs": [],
   "source": [
    "cisla.name"
   ]
  },
  {
   "cell_type": "code",
   "execution_count": 11,
   "id": "4d8c8d3f",
   "metadata": {},
   "outputs": [
    {
     "data": {
      "text/plain": [
       "RangeIndex(start=0, stop=3, step=1)"
      ]
     },
     "execution_count": 11,
     "metadata": {},
     "output_type": "execute_result"
    }
   ],
   "source": [
    "cisla.index"
   ]
  },
  {
   "cell_type": "code",
   "execution_count": 12,
   "id": "4d8e72ac",
   "metadata": {},
   "outputs": [
    {
     "data": {
      "text/plain": [
       "dtype('int64')"
      ]
     },
     "execution_count": 12,
     "metadata": {},
     "output_type": "execute_result"
    }
   ],
   "source": [
    "cisla.dtype"
   ]
  },
  {
   "cell_type": "code",
   "execution_count": 13,
   "id": "c7708330",
   "metadata": {},
   "outputs": [
    {
     "data": {
      "text/plain": [
       "array([1, 2, 3])"
      ]
     },
     "execution_count": 13,
     "metadata": {},
     "output_type": "execute_result"
    }
   ],
   "source": [
    "cisla.values"
   ]
  },
  {
   "cell_type": "code",
   "execution_count": 14,
   "id": "e381d655",
   "metadata": {},
   "outputs": [
    {
     "data": {
      "text/plain": [
       "3"
      ]
     },
     "execution_count": 14,
     "metadata": {},
     "output_type": "execute_result"
    }
   ],
   "source": [
    "cisla.size"
   ]
  },
  {
   "cell_type": "code",
   "execution_count": 17,
   "id": "70f0dc45",
   "metadata": {},
   "outputs": [
    {
     "data": {
      "text/plain": [
       "DatetimeIndex(['1918-10-28', '1945-05-08', '1989-11-17'], dtype='datetime64[ns]', freq=None)"
      ]
     },
     "execution_count": 17,
     "metadata": {},
     "output_type": "execute_result"
    }
   ],
   "source": [
    "udalosti_presne = pd.Series(\n",
    "    [\"Nezávislost Československa\", \"Konec druhé světové války\", \"Sametová revoluce\"],\n",
    "    index = pd.DatetimeIndex(['1918-10-28', '1945-05-08', '1989-11-17'])\n",
    ")\n",
    "udalosti_presne.index"
   ]
  },
  {
   "cell_type": "code",
   "execution_count": null,
   "id": "2476f4a6",
   "metadata": {},
   "outputs": [],
   "source": []
  }
 ],
 "metadata": {
  "kernelspec": {
   "display_name": "Python 3 (ipykernel)",
   "language": "python",
   "name": "python3"
  },
  "language_info": {
   "codemirror_mode": {
    "name": "ipython",
    "version": 3
   },
   "file_extension": ".py",
   "mimetype": "text/x-python",
   "name": "python",
   "nbconvert_exporter": "python",
   "pygments_lexer": "ipython3",
   "version": "3.10.6"
  }
 },
 "nbformat": 4,
 "nbformat_minor": 5
}
